{
  "cells": [
    {
      "cell_type": "code",
      "execution_count": 10,
      "metadata": {},
      "outputs": [
        {
          "name": "stdout",
          "output_type": "stream",
          "text": [
            "Defaulting to user installation because normal site-packages is not writeable\n",
            "Requirement already satisfied: yfinance in /Users/darrielmarkerizal/Library/Python/3.9/lib/python/site-packages (0.2.33)\n",
            "Requirement already satisfied: pandas in /Users/darrielmarkerizal/Library/Python/3.9/lib/python/site-packages (2.1.4)\n",
            "Requirement already satisfied: matplotlib in /Users/darrielmarkerizal/Library/Python/3.9/lib/python/site-packages (3.8.2)\n",
            "Requirement already satisfied: plotly in /Users/darrielmarkerizal/Library/Python/3.9/lib/python/site-packages (5.18.0)\n",
            "Requirement already satisfied: sqlalchemy in /Users/darrielmarkerizal/Library/Python/3.9/lib/python/site-packages (2.0.25)\n",
            "Requirement already satisfied: mysql-connector-python in /Users/darrielmarkerizal/Library/Python/3.9/lib/python/site-packages (8.2.0)\n",
            "Collecting PyMySQL\n",
            "  Downloading PyMySQL-1.1.0-py3-none-any.whl.metadata (4.4 kB)\n",
            "Requirement already satisfied: numpy>=1.16.5 in /Users/darrielmarkerizal/Library/Python/3.9/lib/python/site-packages (from yfinance) (1.26.3)\n",
            "Requirement already satisfied: requests>=2.31 in /Users/darrielmarkerizal/Library/Python/3.9/lib/python/site-packages (from yfinance) (2.31.0)\n",
            "Requirement already satisfied: multitasking>=0.0.7 in /Users/darrielmarkerizal/Library/Python/3.9/lib/python/site-packages (from yfinance) (0.0.11)\n",
            "Requirement already satisfied: lxml>=4.9.1 in /Users/darrielmarkerizal/Library/Python/3.9/lib/python/site-packages (from yfinance) (5.0.0)\n",
            "Requirement already satisfied: appdirs>=1.4.4 in /Users/darrielmarkerizal/Library/Python/3.9/lib/python/site-packages (from yfinance) (1.4.4)\n",
            "Requirement already satisfied: pytz>=2022.5 in /Users/darrielmarkerizal/Library/Python/3.9/lib/python/site-packages (from yfinance) (2023.3.post1)\n",
            "Requirement already satisfied: frozendict>=2.3.4 in /Users/darrielmarkerizal/Library/Python/3.9/lib/python/site-packages (from yfinance) (2.4.0)\n",
            "Requirement already satisfied: peewee>=3.16.2 in /Users/darrielmarkerizal/Library/Python/3.9/lib/python/site-packages (from yfinance) (3.17.0)\n",
            "Requirement already satisfied: beautifulsoup4>=4.11.1 in /Users/darrielmarkerizal/Library/Python/3.9/lib/python/site-packages (from yfinance) (4.12.2)\n",
            "Requirement already satisfied: html5lib>=1.1 in /Users/darrielmarkerizal/Library/Python/3.9/lib/python/site-packages (from yfinance) (1.1)\n",
            "Requirement already satisfied: python-dateutil>=2.8.2 in /Users/darrielmarkerizal/Library/Python/3.9/lib/python/site-packages (from pandas) (2.8.2)\n",
            "Requirement already satisfied: tzdata>=2022.1 in /Users/darrielmarkerizal/Library/Python/3.9/lib/python/site-packages (from pandas) (2023.4)\n",
            "Requirement already satisfied: contourpy>=1.0.1 in /Users/darrielmarkerizal/Library/Python/3.9/lib/python/site-packages (from matplotlib) (1.2.0)\n",
            "Requirement already satisfied: cycler>=0.10 in /Users/darrielmarkerizal/Library/Python/3.9/lib/python/site-packages (from matplotlib) (0.12.1)\n",
            "Requirement already satisfied: fonttools>=4.22.0 in /Users/darrielmarkerizal/Library/Python/3.9/lib/python/site-packages (from matplotlib) (4.47.0)\n",
            "Requirement already satisfied: kiwisolver>=1.3.1 in /Users/darrielmarkerizal/Library/Python/3.9/lib/python/site-packages (from matplotlib) (1.4.5)\n",
            "Requirement already satisfied: packaging>=20.0 in /Users/darrielmarkerizal/Library/Python/3.9/lib/python/site-packages (from matplotlib) (23.2)\n",
            "Requirement already satisfied: pillow>=8 in /Users/darrielmarkerizal/Library/Python/3.9/lib/python/site-packages (from matplotlib) (10.2.0)\n",
            "Requirement already satisfied: pyparsing>=2.3.1 in /Users/darrielmarkerizal/Library/Python/3.9/lib/python/site-packages (from matplotlib) (3.1.1)\n",
            "Requirement already satisfied: importlib-resources>=3.2.0 in /Users/darrielmarkerizal/Library/Python/3.9/lib/python/site-packages (from matplotlib) (6.1.1)\n",
            "Requirement already satisfied: tenacity>=6.2.0 in /Users/darrielmarkerizal/Library/Python/3.9/lib/python/site-packages (from plotly) (8.2.3)\n",
            "Requirement already satisfied: typing-extensions>=4.6.0 in /Users/darrielmarkerizal/Library/Python/3.9/lib/python/site-packages (from sqlalchemy) (4.9.0)\n",
            "Requirement already satisfied: protobuf<=4.21.12,>=4.21.1 in /Users/darrielmarkerizal/Library/Python/3.9/lib/python/site-packages (from mysql-connector-python) (4.21.12)\n",
            "Requirement already satisfied: soupsieve>1.2 in /Users/darrielmarkerizal/Library/Python/3.9/lib/python/site-packages (from beautifulsoup4>=4.11.1->yfinance) (2.5)\n",
            "Requirement already satisfied: six>=1.9 in /Applications/Xcode.app/Contents/Developer/Library/Frameworks/Python3.framework/Versions/3.9/lib/python3.9/site-packages (from html5lib>=1.1->yfinance) (1.15.0)\n",
            "Requirement already satisfied: webencodings in /Users/darrielmarkerizal/Library/Python/3.9/lib/python/site-packages (from html5lib>=1.1->yfinance) (0.5.1)\n",
            "Requirement already satisfied: zipp>=3.1.0 in /Users/darrielmarkerizal/Library/Python/3.9/lib/python/site-packages (from importlib-resources>=3.2.0->matplotlib) (3.17.0)\n",
            "Requirement already satisfied: charset-normalizer<4,>=2 in /Users/darrielmarkerizal/Library/Python/3.9/lib/python/site-packages (from requests>=2.31->yfinance) (3.3.2)\n",
            "Requirement already satisfied: idna<4,>=2.5 in /Users/darrielmarkerizal/Library/Python/3.9/lib/python/site-packages (from requests>=2.31->yfinance) (3.6)\n",
            "Requirement already satisfied: urllib3<3,>=1.21.1 in /Users/darrielmarkerizal/Library/Python/3.9/lib/python/site-packages (from requests>=2.31->yfinance) (2.1.0)\n",
            "Requirement already satisfied: certifi>=2017.4.17 in /Users/darrielmarkerizal/Library/Python/3.9/lib/python/site-packages (from requests>=2.31->yfinance) (2023.11.17)\n",
            "Downloading PyMySQL-1.1.0-py3-none-any.whl (44 kB)\n",
            "\u001b[2K   \u001b[90m━━━━━━━━━━━━━━━━━━━━━━━━━━━━━━━━━━━━━━━━\u001b[0m \u001b[32m44.8/44.8 kB\u001b[0m \u001b[31m779.6 kB/s\u001b[0m eta \u001b[36m0:00:00\u001b[0ma \u001b[36m0:00:01\u001b[0m\n",
            "\u001b[?25hInstalling collected packages: PyMySQL\n",
            "Successfully installed PyMySQL-1.1.0\n",
            "Note: you may need to restart the kernel to use updated packages.\n"
          ]
        }
      ],
      "source": [
        "%pip install yfinance pandas matplotlib plotly sqlalchemy mysql-connector-python PyMySQL "
      ]
    },
    {
      "cell_type": "code",
      "execution_count": 2,
      "metadata": {},
      "outputs": [
        {
          "name": "stdout",
          "output_type": "stream",
          "text": [
            "Defaulting to user installation because normal site-packages is not writeable\n",
            "Requirement already satisfied: nbformat in /Users/darrielmarkerizal/Library/Python/3.9/lib/python/site-packages (5.9.2)\n",
            "Requirement already satisfied: fastjsonschema in /Users/darrielmarkerizal/Library/Python/3.9/lib/python/site-packages (from nbformat) (2.19.1)\n",
            "Requirement already satisfied: jsonschema>=2.6 in /Users/darrielmarkerizal/Library/Python/3.9/lib/python/site-packages (from nbformat) (4.20.0)\n",
            "Requirement already satisfied: jupyter-core in /Users/darrielmarkerizal/Library/Python/3.9/lib/python/site-packages (from nbformat) (5.7.0)\n",
            "Requirement already satisfied: traitlets>=5.1 in /Users/darrielmarkerizal/Library/Python/3.9/lib/python/site-packages (from nbformat) (5.14.1)\n",
            "Requirement already satisfied: attrs>=22.2.0 in /Users/darrielmarkerizal/Library/Python/3.9/lib/python/site-packages (from jsonschema>=2.6->nbformat) (23.2.0)\n",
            "Requirement already satisfied: jsonschema-specifications>=2023.03.6 in /Users/darrielmarkerizal/Library/Python/3.9/lib/python/site-packages (from jsonschema>=2.6->nbformat) (2023.12.1)\n",
            "Requirement already satisfied: referencing>=0.28.4 in /Users/darrielmarkerizal/Library/Python/3.9/lib/python/site-packages (from jsonschema>=2.6->nbformat) (0.32.0)\n",
            "Requirement already satisfied: rpds-py>=0.7.1 in /Users/darrielmarkerizal/Library/Python/3.9/lib/python/site-packages (from jsonschema>=2.6->nbformat) (0.16.2)\n",
            "Requirement already satisfied: platformdirs>=2.5 in /Users/darrielmarkerizal/Library/Python/3.9/lib/python/site-packages (from jupyter-core->nbformat) (4.1.0)\n",
            "Note: you may need to restart the kernel to use updated packages.\n",
            "Defaulting to user installation because normal site-packages is not writeable\n",
            "Requirement already satisfied: pip in /Users/darrielmarkerizal/Library/Python/3.9/lib/python/site-packages (23.3.2)\n",
            "Note: you may need to restart the kernel to use updated packages.\n"
          ]
        }
      ],
      "source": [
        "%pip install --upgrade nbformat\n",
        "%pip install --upgrade pip\n"
      ]
    },
    {
      "cell_type": "code",
      "execution_count": 3,
      "metadata": {},
      "outputs": [
        {
          "name": "stdout",
          "output_type": "stream",
          "text": [
            "Defaulting to user installation because normal site-packages is not writeable\n",
            "Requirement already satisfied: ipykernel in /Users/darrielmarkerizal/Library/Python/3.9/lib/python/site-packages (6.28.0)\n",
            "Requirement already satisfied: appnope in /Users/darrielmarkerizal/Library/Python/3.9/lib/python/site-packages (from ipykernel) (0.1.3)\n",
            "Requirement already satisfied: comm>=0.1.1 in /Users/darrielmarkerizal/Library/Python/3.9/lib/python/site-packages (from ipykernel) (0.2.1)\n",
            "Requirement already satisfied: debugpy>=1.6.5 in /Users/darrielmarkerizal/Library/Python/3.9/lib/python/site-packages (from ipykernel) (1.8.0)\n",
            "Requirement already satisfied: ipython>=7.23.1 in /Users/darrielmarkerizal/Library/Python/3.9/lib/python/site-packages (from ipykernel) (8.18.1)\n",
            "Requirement already satisfied: jupyter-client>=6.1.12 in /Users/darrielmarkerizal/Library/Python/3.9/lib/python/site-packages (from ipykernel) (8.6.0)\n",
            "Requirement already satisfied: jupyter-core!=5.0.*,>=4.12 in /Users/darrielmarkerizal/Library/Python/3.9/lib/python/site-packages (from ipykernel) (5.7.0)\n",
            "Requirement already satisfied: matplotlib-inline>=0.1 in /Users/darrielmarkerizal/Library/Python/3.9/lib/python/site-packages (from ipykernel) (0.1.6)\n",
            "Requirement already satisfied: nest-asyncio in /Users/darrielmarkerizal/Library/Python/3.9/lib/python/site-packages (from ipykernel) (1.5.8)\n",
            "Requirement already satisfied: packaging in /Users/darrielmarkerizal/Library/Python/3.9/lib/python/site-packages (from ipykernel) (23.2)\n",
            "Requirement already satisfied: psutil in /Users/darrielmarkerizal/Library/Python/3.9/lib/python/site-packages (from ipykernel) (5.9.7)\n",
            "Requirement already satisfied: pyzmq>=24 in /Users/darrielmarkerizal/Library/Python/3.9/lib/python/site-packages (from ipykernel) (25.1.2)\n",
            "Requirement already satisfied: tornado>=6.1 in /Users/darrielmarkerizal/Library/Python/3.9/lib/python/site-packages (from ipykernel) (6.4)\n",
            "Requirement already satisfied: traitlets>=5.4.0 in /Users/darrielmarkerizal/Library/Python/3.9/lib/python/site-packages (from ipykernel) (5.14.1)\n",
            "Requirement already satisfied: decorator in /Users/darrielmarkerizal/Library/Python/3.9/lib/python/site-packages (from ipython>=7.23.1->ipykernel) (5.1.1)\n",
            "Requirement already satisfied: jedi>=0.16 in /Users/darrielmarkerizal/Library/Python/3.9/lib/python/site-packages (from ipython>=7.23.1->ipykernel) (0.19.1)\n",
            "Requirement already satisfied: prompt-toolkit<3.1.0,>=3.0.41 in /Users/darrielmarkerizal/Library/Python/3.9/lib/python/site-packages (from ipython>=7.23.1->ipykernel) (3.0.43)\n",
            "Requirement already satisfied: pygments>=2.4.0 in /Users/darrielmarkerizal/Library/Python/3.9/lib/python/site-packages (from ipython>=7.23.1->ipykernel) (2.17.2)\n",
            "Requirement already satisfied: stack-data in /Users/darrielmarkerizal/Library/Python/3.9/lib/python/site-packages (from ipython>=7.23.1->ipykernel) (0.6.3)\n",
            "Requirement already satisfied: typing-extensions in /Users/darrielmarkerizal/Library/Python/3.9/lib/python/site-packages (from ipython>=7.23.1->ipykernel) (4.9.0)\n",
            "Requirement already satisfied: exceptiongroup in /Users/darrielmarkerizal/Library/Python/3.9/lib/python/site-packages (from ipython>=7.23.1->ipykernel) (1.2.0)\n",
            "Requirement already satisfied: pexpect>4.3 in /Users/darrielmarkerizal/Library/Python/3.9/lib/python/site-packages (from ipython>=7.23.1->ipykernel) (4.9.0)\n",
            "Requirement already satisfied: importlib-metadata>=4.8.3 in /Users/darrielmarkerizal/Library/Python/3.9/lib/python/site-packages (from jupyter-client>=6.1.12->ipykernel) (7.0.1)\n",
            "Requirement already satisfied: python-dateutil>=2.8.2 in /Users/darrielmarkerizal/Library/Python/3.9/lib/python/site-packages (from jupyter-client>=6.1.12->ipykernel) (2.8.2)\n",
            "Requirement already satisfied: platformdirs>=2.5 in /Users/darrielmarkerizal/Library/Python/3.9/lib/python/site-packages (from jupyter-core!=5.0.*,>=4.12->ipykernel) (4.1.0)\n",
            "Requirement already satisfied: zipp>=0.5 in /Users/darrielmarkerizal/Library/Python/3.9/lib/python/site-packages (from importlib-metadata>=4.8.3->jupyter-client>=6.1.12->ipykernel) (3.17.0)\n",
            "Requirement already satisfied: parso<0.9.0,>=0.8.3 in /Users/darrielmarkerizal/Library/Python/3.9/lib/python/site-packages (from jedi>=0.16->ipython>=7.23.1->ipykernel) (0.8.3)\n",
            "Requirement already satisfied: ptyprocess>=0.5 in /Users/darrielmarkerizal/Library/Python/3.9/lib/python/site-packages (from pexpect>4.3->ipython>=7.23.1->ipykernel) (0.7.0)\n",
            "Requirement already satisfied: wcwidth in /Users/darrielmarkerizal/Library/Python/3.9/lib/python/site-packages (from prompt-toolkit<3.1.0,>=3.0.41->ipython>=7.23.1->ipykernel) (0.2.12)\n",
            "Requirement already satisfied: six>=1.5 in /Applications/Xcode.app/Contents/Developer/Library/Frameworks/Python3.framework/Versions/3.9/lib/python3.9/site-packages (from python-dateutil>=2.8.2->jupyter-client>=6.1.12->ipykernel) (1.15.0)\n",
            "Requirement already satisfied: executing>=1.2.0 in /Users/darrielmarkerizal/Library/Python/3.9/lib/python/site-packages (from stack-data->ipython>=7.23.1->ipykernel) (2.0.1)\n",
            "Requirement already satisfied: asttokens>=2.1.0 in /Users/darrielmarkerizal/Library/Python/3.9/lib/python/site-packages (from stack-data->ipython>=7.23.1->ipykernel) (2.4.1)\n",
            "Requirement already satisfied: pure-eval in /Users/darrielmarkerizal/Library/Python/3.9/lib/python/site-packages (from stack-data->ipython>=7.23.1->ipykernel) (0.2.2)\n",
            "Note: you may need to restart the kernel to use updated packages.\n",
            "Defaulting to user installation because normal site-packages is not writeable\n",
            "Requirement already satisfied: nbformat in /Users/darrielmarkerizal/Library/Python/3.9/lib/python/site-packages (5.9.2)\n",
            "Requirement already satisfied: fastjsonschema in /Users/darrielmarkerizal/Library/Python/3.9/lib/python/site-packages (from nbformat) (2.19.1)\n",
            "Requirement already satisfied: jsonschema>=2.6 in /Users/darrielmarkerizal/Library/Python/3.9/lib/python/site-packages (from nbformat) (4.20.0)\n",
            "Requirement already satisfied: jupyter-core in /Users/darrielmarkerizal/Library/Python/3.9/lib/python/site-packages (from nbformat) (5.7.0)\n",
            "Requirement already satisfied: traitlets>=5.1 in /Users/darrielmarkerizal/Library/Python/3.9/lib/python/site-packages (from nbformat) (5.14.1)\n",
            "Requirement already satisfied: attrs>=22.2.0 in /Users/darrielmarkerizal/Library/Python/3.9/lib/python/site-packages (from jsonschema>=2.6->nbformat) (23.2.0)\n",
            "Requirement already satisfied: jsonschema-specifications>=2023.03.6 in /Users/darrielmarkerizal/Library/Python/3.9/lib/python/site-packages (from jsonschema>=2.6->nbformat) (2023.12.1)\n",
            "Requirement already satisfied: referencing>=0.28.4 in /Users/darrielmarkerizal/Library/Python/3.9/lib/python/site-packages (from jsonschema>=2.6->nbformat) (0.32.0)\n",
            "Requirement already satisfied: rpds-py>=0.7.1 in /Users/darrielmarkerizal/Library/Python/3.9/lib/python/site-packages (from jsonschema>=2.6->nbformat) (0.16.2)\n",
            "Requirement already satisfied: platformdirs>=2.5 in /Users/darrielmarkerizal/Library/Python/3.9/lib/python/site-packages (from jupyter-core->nbformat) (4.1.0)\n",
            "Note: you may need to restart the kernel to use updated packages.\n"
          ]
        }
      ],
      "source": [
        "%pip install ipykernel\n",
        "%pip install nbformat \n",
        "\n"
      ]
    },
    {
      "cell_type": "code",
      "execution_count": 4,
      "metadata": {
        "id": "zauODno2xhtD"
      },
      "outputs": [
        {
          "name": "stderr",
          "output_type": "stream",
          "text": [
            "/Users/darrielmarkerizal/Library/Python/3.9/lib/python/site-packages/urllib3/__init__.py:34: NotOpenSSLWarning: urllib3 v2 only supports OpenSSL 1.1.1+, currently the 'ssl' module is compiled with 'LibreSSL 2.8.3'. See: https://github.com/urllib3/urllib3/issues/3020\n",
            "  warnings.warn(\n"
          ]
        }
      ],
      "source": [
        "import yfinance as yf\n",
        "import pandas as pd\n",
        "import matplotlib.pyplot as plt\n",
        "import plotly.graph_objects as go\n",
        "from datetime import datetime\n"
      ]
    },
    {
      "cell_type": "code",
      "execution_count": 17,
      "metadata": {
        "colab": {
          "base_uri": "https://localhost:8080/"
        },
        "id": "IoUdGRtYy153",
        "outputId": "7d9c9b82-f350-40d8-9771-80f70be7bd66"
      },
      "outputs": [
        {
          "name": "stdout",
          "output_type": "stream",
          "text": [
            "[*********************100%%**********************]  1 of 1 completed\n",
            "                             Open    High     Low   Close  Adj Close  \\\n",
            "Datetime                                                               \n",
            "2023-12-29 09:00:00+07:00  3960.0  3960.0  3940.0  3960.0     3960.0   \n",
            "2023-12-29 10:00:00+07:00  3950.0  3960.0  3950.0  3950.0     3950.0   \n",
            "2023-12-29 11:00:00+07:00  3960.0  3960.0  3950.0  3950.0     3950.0   \n",
            "2023-12-29 14:00:00+07:00  3950.0  3960.0  3940.0  3960.0     3960.0   \n",
            "2023-12-29 15:00:00+07:00  3950.0  3980.0  3950.0  3970.0     3970.0   \n",
            "2024-01-02 09:00:00+07:00  3950.0  3970.0  3940.0  3950.0     3950.0   \n",
            "2024-01-02 10:00:00+07:00  3950.0  3970.0  3950.0  3960.0     3960.0   \n",
            "2024-01-02 11:00:00+07:00  3960.0  3970.0  3950.0  3960.0     3960.0   \n",
            "2024-01-02 13:00:00+07:00  3960.0  3970.0  3950.0  3970.0     3970.0   \n",
            "2024-01-02 14:00:00+07:00  3960.0  3970.0  3960.0  3960.0     3960.0   \n",
            "2024-01-02 15:00:00+07:00  3960.0  3970.0  3960.0  3970.0     3970.0   \n",
            "2024-01-03 09:00:00+07:00  3990.0  3990.0  3970.0  3980.0     3980.0   \n",
            "2024-01-03 10:00:00+07:00  3990.0  3990.0  3980.0  3980.0     3980.0   \n",
            "2024-01-03 11:00:00+07:00  3980.0  3990.0  3970.0  3970.0     3970.0   \n",
            "2024-01-03 13:00:00+07:00  3980.0  3980.0  3950.0  3960.0     3960.0   \n",
            "2024-01-03 14:00:00+07:00  3960.0  3980.0  3960.0  3970.0     3970.0   \n",
            "2024-01-03 15:00:00+07:00  3980.0  3980.0  3970.0  3980.0     3980.0   \n",
            "2024-01-04 09:00:00+07:00  3970.0  3990.0  3970.0  3990.0     3990.0   \n",
            "2024-01-04 10:00:00+07:00  3990.0  3990.0  3980.0  3990.0     3990.0   \n",
            "2024-01-04 11:00:00+07:00  3980.0  3990.0  3960.0  3970.0     3970.0   \n",
            "2024-01-04 13:00:00+07:00  3970.0  3980.0  3960.0  3970.0     3970.0   \n",
            "2024-01-04 14:00:00+07:00  3980.0  3980.0  3970.0  3970.0     3970.0   \n",
            "2024-01-04 15:00:00+07:00  3970.0  3990.0  3970.0  3980.0     3980.0   \n",
            "\n",
            "                             Volume   Symbol  \n",
            "Datetime                                      \n",
            "2023-12-29 09:00:00+07:00   2138600  TLKM.JK  \n",
            "2023-12-29 10:00:00+07:00   1192600  TLKM.JK  \n",
            "2023-12-29 11:00:00+07:00    908000  TLKM.JK  \n",
            "2023-12-29 14:00:00+07:00   5207700  TLKM.JK  \n",
            "2023-12-29 15:00:00+07:00   9826200  TLKM.JK  \n",
            "2024-01-02 09:00:00+07:00         0  TLKM.JK  \n",
            "2024-01-02 10:00:00+07:00   1833000  TLKM.JK  \n",
            "2024-01-02 11:00:00+07:00   1366000  TLKM.JK  \n",
            "2024-01-02 13:00:00+07:00    772600  TLKM.JK  \n",
            "2024-01-02 14:00:00+07:00   1671600  TLKM.JK  \n",
            "2024-01-02 15:00:00+07:00   2407500  TLKM.JK  \n",
            "2024-01-03 09:00:00+07:00         0  TLKM.JK  \n",
            "2024-01-03 10:00:00+07:00   2033100  TLKM.JK  \n",
            "2024-01-03 11:00:00+07:00   2181400  TLKM.JK  \n",
            "2024-01-03 13:00:00+07:00   2120800  TLKM.JK  \n",
            "2024-01-03 14:00:00+07:00   2239500  TLKM.JK  \n",
            "2024-01-03 15:00:00+07:00   3417800  TLKM.JK  \n",
            "2024-01-04 09:00:00+07:00         0  TLKM.JK  \n",
            "2024-01-04 10:00:00+07:00   4105900  TLKM.JK  \n",
            "2024-01-04 11:00:00+07:00   4707600  TLKM.JK  \n",
            "2024-01-04 13:00:00+07:00   1198900  TLKM.JK  \n",
            "2024-01-04 14:00:00+07:00   4269800  TLKM.JK  \n",
            "2024-01-04 15:00:00+07:00  10426700  TLKM.JK  \n"
          ]
        }
      ],
      "source": [
        "# Symbol saham\n",
        "symbol = \"TLKM.JK\"\n",
        "\n",
        "# Tentukan rentang waktu 7 hari terakhir hingga hari ini\n",
        "end_date = datetime.today().strftime('%Y-%m-%d')\n",
        "start_date = pd.to_datetime(end_date) - pd.DateOffset(days=7)\n",
        "\n",
        "# Ambil data saham per jam menggunakan yfinance\n",
        "tlkm_data = yf.download(symbol, start=start_date, end=end_date, interval='1h')\n",
        "\n",
        "# Tambahkan kolom symbol dengan nilai yang sama pada setiap baris\n",
        "tlkm_data['Symbol'] = symbol\n",
        "\n",
        "print(tlkm_data)\n"
      ]
    },
    {
      "cell_type": "code",
      "execution_count": 6,
      "metadata": {
        "colab": {
          "base_uri": "https://localhost:8080/",
          "height": 542
        },
        "id": "AbR-QeDEG6s3",
        "outputId": "33cf0227-396d-4610-dfff-a2f08036f75f"
      },
      "outputs": [
        {
          "data": {
            "application/vnd.plotly.v1+json": {
              "config": {
                "plotlyServerURL": "https://plot.ly"
              },
              "data": [
                {
                  "close": [
                    3960,
                    3950,
                    3950,
                    3960,
                    3970,
                    3950,
                    3960,
                    3960,
                    3970,
                    3960,
                    3970,
                    3980,
                    3980,
                    3970,
                    3960,
                    3970,
                    3980,
                    3990,
                    3990,
                    3970,
                    3970,
                    3970,
                    3980
                  ],
                  "high": [
                    3960,
                    3960,
                    3960,
                    3960,
                    3980,
                    3970,
                    3970,
                    3970,
                    3970,
                    3970,
                    3970,
                    3990,
                    3990,
                    3990,
                    3980,
                    3980,
                    3980,
                    3990,
                    3990,
                    3990,
                    3980,
                    3980,
                    3990
                  ],
                  "low": [
                    3940,
                    3950,
                    3950,
                    3940,
                    3950,
                    3940,
                    3950,
                    3950,
                    3950,
                    3960,
                    3960,
                    3970,
                    3980,
                    3970,
                    3950,
                    3960,
                    3970,
                    3970,
                    3980,
                    3960,
                    3960,
                    3970,
                    3970
                  ],
                  "open": [
                    3960,
                    3950,
                    3960,
                    3950,
                    3950,
                    3950,
                    3950,
                    3960,
                    3960,
                    3960,
                    3960,
                    3990,
                    3990,
                    3980,
                    3980,
                    3960,
                    3980,
                    3970,
                    3990,
                    3980,
                    3970,
                    3980,
                    3970
                  ],
                  "type": "candlestick",
                  "x": [
                    "2023-12-29T09:00:00+07:00",
                    "2023-12-29T10:00:00+07:00",
                    "2023-12-29T11:00:00+07:00",
                    "2023-12-29T14:00:00+07:00",
                    "2023-12-29T15:00:00+07:00",
                    "2024-01-02T09:00:00+07:00",
                    "2024-01-02T10:00:00+07:00",
                    "2024-01-02T11:00:00+07:00",
                    "2024-01-02T13:00:00+07:00",
                    "2024-01-02T14:00:00+07:00",
                    "2024-01-02T15:00:00+07:00",
                    "2024-01-03T09:00:00+07:00",
                    "2024-01-03T10:00:00+07:00",
                    "2024-01-03T11:00:00+07:00",
                    "2024-01-03T13:00:00+07:00",
                    "2024-01-03T14:00:00+07:00",
                    "2024-01-03T15:00:00+07:00",
                    "2024-01-04T09:00:00+07:00",
                    "2024-01-04T10:00:00+07:00",
                    "2024-01-04T11:00:00+07:00",
                    "2024-01-04T13:00:00+07:00",
                    "2024-01-04T14:00:00+07:00",
                    "2024-01-04T15:00:00+07:00"
                  ]
                }
              ],
              "layout": {
                "template": {
                  "data": {
                    "bar": [
                      {
                        "error_x": {
                          "color": "#2a3f5f"
                        },
                        "error_y": {
                          "color": "#2a3f5f"
                        },
                        "marker": {
                          "line": {
                            "color": "#E5ECF6",
                            "width": 0.5
                          },
                          "pattern": {
                            "fillmode": "overlay",
                            "size": 10,
                            "solidity": 0.2
                          }
                        },
                        "type": "bar"
                      }
                    ],
                    "barpolar": [
                      {
                        "marker": {
                          "line": {
                            "color": "#E5ECF6",
                            "width": 0.5
                          },
                          "pattern": {
                            "fillmode": "overlay",
                            "size": 10,
                            "solidity": 0.2
                          }
                        },
                        "type": "barpolar"
                      }
                    ],
                    "carpet": [
                      {
                        "aaxis": {
                          "endlinecolor": "#2a3f5f",
                          "gridcolor": "white",
                          "linecolor": "white",
                          "minorgridcolor": "white",
                          "startlinecolor": "#2a3f5f"
                        },
                        "baxis": {
                          "endlinecolor": "#2a3f5f",
                          "gridcolor": "white",
                          "linecolor": "white",
                          "minorgridcolor": "white",
                          "startlinecolor": "#2a3f5f"
                        },
                        "type": "carpet"
                      }
                    ],
                    "choropleth": [
                      {
                        "colorbar": {
                          "outlinewidth": 0,
                          "ticks": ""
                        },
                        "type": "choropleth"
                      }
                    ],
                    "contour": [
                      {
                        "colorbar": {
                          "outlinewidth": 0,
                          "ticks": ""
                        },
                        "colorscale": [
                          [
                            0,
                            "#0d0887"
                          ],
                          [
                            0.1111111111111111,
                            "#46039f"
                          ],
                          [
                            0.2222222222222222,
                            "#7201a8"
                          ],
                          [
                            0.3333333333333333,
                            "#9c179e"
                          ],
                          [
                            0.4444444444444444,
                            "#bd3786"
                          ],
                          [
                            0.5555555555555556,
                            "#d8576b"
                          ],
                          [
                            0.6666666666666666,
                            "#ed7953"
                          ],
                          [
                            0.7777777777777778,
                            "#fb9f3a"
                          ],
                          [
                            0.8888888888888888,
                            "#fdca26"
                          ],
                          [
                            1,
                            "#f0f921"
                          ]
                        ],
                        "type": "contour"
                      }
                    ],
                    "contourcarpet": [
                      {
                        "colorbar": {
                          "outlinewidth": 0,
                          "ticks": ""
                        },
                        "type": "contourcarpet"
                      }
                    ],
                    "heatmap": [
                      {
                        "colorbar": {
                          "outlinewidth": 0,
                          "ticks": ""
                        },
                        "colorscale": [
                          [
                            0,
                            "#0d0887"
                          ],
                          [
                            0.1111111111111111,
                            "#46039f"
                          ],
                          [
                            0.2222222222222222,
                            "#7201a8"
                          ],
                          [
                            0.3333333333333333,
                            "#9c179e"
                          ],
                          [
                            0.4444444444444444,
                            "#bd3786"
                          ],
                          [
                            0.5555555555555556,
                            "#d8576b"
                          ],
                          [
                            0.6666666666666666,
                            "#ed7953"
                          ],
                          [
                            0.7777777777777778,
                            "#fb9f3a"
                          ],
                          [
                            0.8888888888888888,
                            "#fdca26"
                          ],
                          [
                            1,
                            "#f0f921"
                          ]
                        ],
                        "type": "heatmap"
                      }
                    ],
                    "heatmapgl": [
                      {
                        "colorbar": {
                          "outlinewidth": 0,
                          "ticks": ""
                        },
                        "colorscale": [
                          [
                            0,
                            "#0d0887"
                          ],
                          [
                            0.1111111111111111,
                            "#46039f"
                          ],
                          [
                            0.2222222222222222,
                            "#7201a8"
                          ],
                          [
                            0.3333333333333333,
                            "#9c179e"
                          ],
                          [
                            0.4444444444444444,
                            "#bd3786"
                          ],
                          [
                            0.5555555555555556,
                            "#d8576b"
                          ],
                          [
                            0.6666666666666666,
                            "#ed7953"
                          ],
                          [
                            0.7777777777777778,
                            "#fb9f3a"
                          ],
                          [
                            0.8888888888888888,
                            "#fdca26"
                          ],
                          [
                            1,
                            "#f0f921"
                          ]
                        ],
                        "type": "heatmapgl"
                      }
                    ],
                    "histogram": [
                      {
                        "marker": {
                          "pattern": {
                            "fillmode": "overlay",
                            "size": 10,
                            "solidity": 0.2
                          }
                        },
                        "type": "histogram"
                      }
                    ],
                    "histogram2d": [
                      {
                        "colorbar": {
                          "outlinewidth": 0,
                          "ticks": ""
                        },
                        "colorscale": [
                          [
                            0,
                            "#0d0887"
                          ],
                          [
                            0.1111111111111111,
                            "#46039f"
                          ],
                          [
                            0.2222222222222222,
                            "#7201a8"
                          ],
                          [
                            0.3333333333333333,
                            "#9c179e"
                          ],
                          [
                            0.4444444444444444,
                            "#bd3786"
                          ],
                          [
                            0.5555555555555556,
                            "#d8576b"
                          ],
                          [
                            0.6666666666666666,
                            "#ed7953"
                          ],
                          [
                            0.7777777777777778,
                            "#fb9f3a"
                          ],
                          [
                            0.8888888888888888,
                            "#fdca26"
                          ],
                          [
                            1,
                            "#f0f921"
                          ]
                        ],
                        "type": "histogram2d"
                      }
                    ],
                    "histogram2dcontour": [
                      {
                        "colorbar": {
                          "outlinewidth": 0,
                          "ticks": ""
                        },
                        "colorscale": [
                          [
                            0,
                            "#0d0887"
                          ],
                          [
                            0.1111111111111111,
                            "#46039f"
                          ],
                          [
                            0.2222222222222222,
                            "#7201a8"
                          ],
                          [
                            0.3333333333333333,
                            "#9c179e"
                          ],
                          [
                            0.4444444444444444,
                            "#bd3786"
                          ],
                          [
                            0.5555555555555556,
                            "#d8576b"
                          ],
                          [
                            0.6666666666666666,
                            "#ed7953"
                          ],
                          [
                            0.7777777777777778,
                            "#fb9f3a"
                          ],
                          [
                            0.8888888888888888,
                            "#fdca26"
                          ],
                          [
                            1,
                            "#f0f921"
                          ]
                        ],
                        "type": "histogram2dcontour"
                      }
                    ],
                    "mesh3d": [
                      {
                        "colorbar": {
                          "outlinewidth": 0,
                          "ticks": ""
                        },
                        "type": "mesh3d"
                      }
                    ],
                    "parcoords": [
                      {
                        "line": {
                          "colorbar": {
                            "outlinewidth": 0,
                            "ticks": ""
                          }
                        },
                        "type": "parcoords"
                      }
                    ],
                    "pie": [
                      {
                        "automargin": true,
                        "type": "pie"
                      }
                    ],
                    "scatter": [
                      {
                        "fillpattern": {
                          "fillmode": "overlay",
                          "size": 10,
                          "solidity": 0.2
                        },
                        "type": "scatter"
                      }
                    ],
                    "scatter3d": [
                      {
                        "line": {
                          "colorbar": {
                            "outlinewidth": 0,
                            "ticks": ""
                          }
                        },
                        "marker": {
                          "colorbar": {
                            "outlinewidth": 0,
                            "ticks": ""
                          }
                        },
                        "type": "scatter3d"
                      }
                    ],
                    "scattercarpet": [
                      {
                        "marker": {
                          "colorbar": {
                            "outlinewidth": 0,
                            "ticks": ""
                          }
                        },
                        "type": "scattercarpet"
                      }
                    ],
                    "scattergeo": [
                      {
                        "marker": {
                          "colorbar": {
                            "outlinewidth": 0,
                            "ticks": ""
                          }
                        },
                        "type": "scattergeo"
                      }
                    ],
                    "scattergl": [
                      {
                        "marker": {
                          "colorbar": {
                            "outlinewidth": 0,
                            "ticks": ""
                          }
                        },
                        "type": "scattergl"
                      }
                    ],
                    "scattermapbox": [
                      {
                        "marker": {
                          "colorbar": {
                            "outlinewidth": 0,
                            "ticks": ""
                          }
                        },
                        "type": "scattermapbox"
                      }
                    ],
                    "scatterpolar": [
                      {
                        "marker": {
                          "colorbar": {
                            "outlinewidth": 0,
                            "ticks": ""
                          }
                        },
                        "type": "scatterpolar"
                      }
                    ],
                    "scatterpolargl": [
                      {
                        "marker": {
                          "colorbar": {
                            "outlinewidth": 0,
                            "ticks": ""
                          }
                        },
                        "type": "scatterpolargl"
                      }
                    ],
                    "scatterternary": [
                      {
                        "marker": {
                          "colorbar": {
                            "outlinewidth": 0,
                            "ticks": ""
                          }
                        },
                        "type": "scatterternary"
                      }
                    ],
                    "surface": [
                      {
                        "colorbar": {
                          "outlinewidth": 0,
                          "ticks": ""
                        },
                        "colorscale": [
                          [
                            0,
                            "#0d0887"
                          ],
                          [
                            0.1111111111111111,
                            "#46039f"
                          ],
                          [
                            0.2222222222222222,
                            "#7201a8"
                          ],
                          [
                            0.3333333333333333,
                            "#9c179e"
                          ],
                          [
                            0.4444444444444444,
                            "#bd3786"
                          ],
                          [
                            0.5555555555555556,
                            "#d8576b"
                          ],
                          [
                            0.6666666666666666,
                            "#ed7953"
                          ],
                          [
                            0.7777777777777778,
                            "#fb9f3a"
                          ],
                          [
                            0.8888888888888888,
                            "#fdca26"
                          ],
                          [
                            1,
                            "#f0f921"
                          ]
                        ],
                        "type": "surface"
                      }
                    ],
                    "table": [
                      {
                        "cells": {
                          "fill": {
                            "color": "#EBF0F8"
                          },
                          "line": {
                            "color": "white"
                          }
                        },
                        "header": {
                          "fill": {
                            "color": "#C8D4E3"
                          },
                          "line": {
                            "color": "white"
                          }
                        },
                        "type": "table"
                      }
                    ]
                  },
                  "layout": {
                    "annotationdefaults": {
                      "arrowcolor": "#2a3f5f",
                      "arrowhead": 0,
                      "arrowwidth": 1
                    },
                    "autotypenumbers": "strict",
                    "coloraxis": {
                      "colorbar": {
                        "outlinewidth": 0,
                        "ticks": ""
                      }
                    },
                    "colorscale": {
                      "diverging": [
                        [
                          0,
                          "#8e0152"
                        ],
                        [
                          0.1,
                          "#c51b7d"
                        ],
                        [
                          0.2,
                          "#de77ae"
                        ],
                        [
                          0.3,
                          "#f1b6da"
                        ],
                        [
                          0.4,
                          "#fde0ef"
                        ],
                        [
                          0.5,
                          "#f7f7f7"
                        ],
                        [
                          0.6,
                          "#e6f5d0"
                        ],
                        [
                          0.7,
                          "#b8e186"
                        ],
                        [
                          0.8,
                          "#7fbc41"
                        ],
                        [
                          0.9,
                          "#4d9221"
                        ],
                        [
                          1,
                          "#276419"
                        ]
                      ],
                      "sequential": [
                        [
                          0,
                          "#0d0887"
                        ],
                        [
                          0.1111111111111111,
                          "#46039f"
                        ],
                        [
                          0.2222222222222222,
                          "#7201a8"
                        ],
                        [
                          0.3333333333333333,
                          "#9c179e"
                        ],
                        [
                          0.4444444444444444,
                          "#bd3786"
                        ],
                        [
                          0.5555555555555556,
                          "#d8576b"
                        ],
                        [
                          0.6666666666666666,
                          "#ed7953"
                        ],
                        [
                          0.7777777777777778,
                          "#fb9f3a"
                        ],
                        [
                          0.8888888888888888,
                          "#fdca26"
                        ],
                        [
                          1,
                          "#f0f921"
                        ]
                      ],
                      "sequentialminus": [
                        [
                          0,
                          "#0d0887"
                        ],
                        [
                          0.1111111111111111,
                          "#46039f"
                        ],
                        [
                          0.2222222222222222,
                          "#7201a8"
                        ],
                        [
                          0.3333333333333333,
                          "#9c179e"
                        ],
                        [
                          0.4444444444444444,
                          "#bd3786"
                        ],
                        [
                          0.5555555555555556,
                          "#d8576b"
                        ],
                        [
                          0.6666666666666666,
                          "#ed7953"
                        ],
                        [
                          0.7777777777777778,
                          "#fb9f3a"
                        ],
                        [
                          0.8888888888888888,
                          "#fdca26"
                        ],
                        [
                          1,
                          "#f0f921"
                        ]
                      ]
                    },
                    "colorway": [
                      "#636efa",
                      "#EF553B",
                      "#00cc96",
                      "#ab63fa",
                      "#FFA15A",
                      "#19d3f3",
                      "#FF6692",
                      "#B6E880",
                      "#FF97FF",
                      "#FECB52"
                    ],
                    "font": {
                      "color": "#2a3f5f"
                    },
                    "geo": {
                      "bgcolor": "white",
                      "lakecolor": "white",
                      "landcolor": "#E5ECF6",
                      "showlakes": true,
                      "showland": true,
                      "subunitcolor": "white"
                    },
                    "hoverlabel": {
                      "align": "left"
                    },
                    "hovermode": "closest",
                    "mapbox": {
                      "style": "light"
                    },
                    "paper_bgcolor": "white",
                    "plot_bgcolor": "#E5ECF6",
                    "polar": {
                      "angularaxis": {
                        "gridcolor": "white",
                        "linecolor": "white",
                        "ticks": ""
                      },
                      "bgcolor": "#E5ECF6",
                      "radialaxis": {
                        "gridcolor": "white",
                        "linecolor": "white",
                        "ticks": ""
                      }
                    },
                    "scene": {
                      "xaxis": {
                        "backgroundcolor": "#E5ECF6",
                        "gridcolor": "white",
                        "gridwidth": 2,
                        "linecolor": "white",
                        "showbackground": true,
                        "ticks": "",
                        "zerolinecolor": "white"
                      },
                      "yaxis": {
                        "backgroundcolor": "#E5ECF6",
                        "gridcolor": "white",
                        "gridwidth": 2,
                        "linecolor": "white",
                        "showbackground": true,
                        "ticks": "",
                        "zerolinecolor": "white"
                      },
                      "zaxis": {
                        "backgroundcolor": "#E5ECF6",
                        "gridcolor": "white",
                        "gridwidth": 2,
                        "linecolor": "white",
                        "showbackground": true,
                        "ticks": "",
                        "zerolinecolor": "white"
                      }
                    },
                    "shapedefaults": {
                      "line": {
                        "color": "#2a3f5f"
                      }
                    },
                    "ternary": {
                      "aaxis": {
                        "gridcolor": "white",
                        "linecolor": "white",
                        "ticks": ""
                      },
                      "baxis": {
                        "gridcolor": "white",
                        "linecolor": "white",
                        "ticks": ""
                      },
                      "bgcolor": "#E5ECF6",
                      "caxis": {
                        "gridcolor": "white",
                        "linecolor": "white",
                        "ticks": ""
                      }
                    },
                    "title": {
                      "x": 0.05
                    },
                    "xaxis": {
                      "automargin": true,
                      "gridcolor": "white",
                      "linecolor": "white",
                      "ticks": "",
                      "title": {
                        "standoff": 15
                      },
                      "zerolinecolor": "white",
                      "zerolinewidth": 2
                    },
                    "yaxis": {
                      "automargin": true,
                      "gridcolor": "white",
                      "linecolor": "white",
                      "ticks": "",
                      "title": {
                        "standoff": 15
                      },
                      "zerolinecolor": "white",
                      "zerolinewidth": 2
                    }
                  }
                },
                "title": {
                  "text": "Candlestick Chart - TLKM.JK"
                },
                "xaxis": {
                  "title": {
                    "text": "Tanggal"
                  },
                  "type": "category"
                },
                "yaxis": {
                  "title": {
                    "text": "Harga"
                  }
                }
              }
            }
          },
          "metadata": {},
          "output_type": "display_data"
        }
      ],
      "source": [
        "# Membuat candlestick chart\n",
        "fig = go.Figure(data=[go.Candlestick(x=tlkm_data.index,\n",
        "                open=tlkm_data['Open'],\n",
        "                high=tlkm_data['High'],\n",
        "                low=tlkm_data['Low'],\n",
        "                close=tlkm_data['Close'])])\n",
        "\n",
        "# Menambahkan judul dan sumbu\n",
        "fig.update_layout(\n",
        "    title=f'Candlestick Chart - {symbol}',\n",
        "    xaxis_title='Tanggal',\n",
        "    yaxis_title='Harga',\n",
        "    xaxis=dict(type='category')  # Tambahkan parameter ini\n",
        ")\n",
        "\n",
        "# Menampilkan chart\n",
        "fig.show()\n"
      ]
    },
    {
      "cell_type": "code",
      "execution_count": 18,
      "metadata": {},
      "outputs": [
        {
          "data": {
            "text/plain": [
              "23"
            ]
          },
          "execution_count": 18,
          "metadata": {},
          "output_type": "execute_result"
        }
      ],
      "source": [
        "from sqlalchemy import create_engine\n",
        "\n",
        "# Buat koneksi ke database MySQL\n",
        "engine = create_engine('mysql+pymysql://root:@localhost/Finnovate')\n",
        "\n",
        "# Dapatkan id untuk tipe 'stocks'\n",
        "type_id = pd.read_sql_query(\"SELECT type_id FROM EquityType WHERE type_name = 'stocks'\", engine).iloc[0, 0]\n",
        "\n",
        "# Tambahkan kolom type_id dengan nilai yang sama pada setiap baris\n",
        "tlkm_data['type_id'] = type_id\n",
        "\n",
        "# Ubah indeks Datetime menjadi kolom biasa\n",
        "tlkm_data.reset_index(inplace=True)\n",
        "\n",
        "tlkm_data = tlkm_data.rename(columns={'level_0': 'symbol', 'index': 'symbol'})\n",
        "\n",
        "# Ubah nama kolom agar sesuai dengan tabel Equity\n",
        "tlkm_data.rename(columns={\n",
        "    'Datetime': 'datetime',\n",
        "    'Open': 'open',\n",
        "    'High': 'high',\n",
        "    'Low': 'low',\n",
        "    'Close': 'close',\n",
        "    'Adj Close': 'adj_close',\n",
        "    'Volume': 'volume',\n",
        "    'Symbol': 'symbol'\n",
        "}, inplace=True)\n",
        "\n",
        "# Masukkan data ke dalam tabel Equity\n",
        "tlkm_data.to_sql('Equity', con=engine, if_exists='append', index=False)"
      ]
    },
    {
      "cell_type": "code",
      "execution_count": 19,
      "metadata": {},
      "outputs": [
        {
          "data": {
            "application/vnd.plotly.v1+json": {
              "config": {
                "plotlyServerURL": "https://plot.ly"
              },
              "data": [
                {
                  "close": [
                    3960,
                    3950,
                    3950,
                    3960,
                    3970,
                    3950,
                    3960,
                    3960,
                    3970,
                    3960,
                    3970,
                    3980,
                    3980,
                    3970,
                    3960,
                    3970,
                    3980,
                    3990,
                    3990,
                    3970,
                    3970,
                    3970,
                    3980
                  ],
                  "high": [
                    3960,
                    3960,
                    3960,
                    3960,
                    3980,
                    3970,
                    3970,
                    3970,
                    3970,
                    3970,
                    3970,
                    3990,
                    3990,
                    3990,
                    3980,
                    3980,
                    3980,
                    3990,
                    3990,
                    3990,
                    3980,
                    3980,
                    3990
                  ],
                  "low": [
                    3940,
                    3950,
                    3950,
                    3940,
                    3950,
                    3940,
                    3950,
                    3950,
                    3950,
                    3960,
                    3960,
                    3970,
                    3980,
                    3970,
                    3950,
                    3960,
                    3970,
                    3970,
                    3980,
                    3960,
                    3960,
                    3970,
                    3970
                  ],
                  "open": [
                    3960,
                    3950,
                    3960,
                    3950,
                    3950,
                    3950,
                    3950,
                    3960,
                    3960,
                    3960,
                    3960,
                    3990,
                    3990,
                    3980,
                    3980,
                    3960,
                    3980,
                    3970,
                    3990,
                    3980,
                    3970,
                    3980,
                    3970
                  ],
                  "type": "candlestick",
                  "x": [
                    "2023-12-29T09:00:00",
                    "2023-12-29T10:00:00",
                    "2023-12-29T11:00:00",
                    "2023-12-29T14:00:00",
                    "2023-12-29T15:00:00",
                    "2024-01-02T09:00:00",
                    "2024-01-02T10:00:00",
                    "2024-01-02T11:00:00",
                    "2024-01-02T13:00:00",
                    "2024-01-02T14:00:00",
                    "2024-01-02T15:00:00",
                    "2024-01-03T09:00:00",
                    "2024-01-03T10:00:00",
                    "2024-01-03T11:00:00",
                    "2024-01-03T13:00:00",
                    "2024-01-03T14:00:00",
                    "2024-01-03T15:00:00",
                    "2024-01-04T09:00:00",
                    "2024-01-04T10:00:00",
                    "2024-01-04T11:00:00",
                    "2024-01-04T13:00:00",
                    "2024-01-04T14:00:00",
                    "2024-01-04T15:00:00"
                  ]
                }
              ],
              "layout": {
                "template": {
                  "data": {
                    "bar": [
                      {
                        "error_x": {
                          "color": "#2a3f5f"
                        },
                        "error_y": {
                          "color": "#2a3f5f"
                        },
                        "marker": {
                          "line": {
                            "color": "#E5ECF6",
                            "width": 0.5
                          },
                          "pattern": {
                            "fillmode": "overlay",
                            "size": 10,
                            "solidity": 0.2
                          }
                        },
                        "type": "bar"
                      }
                    ],
                    "barpolar": [
                      {
                        "marker": {
                          "line": {
                            "color": "#E5ECF6",
                            "width": 0.5
                          },
                          "pattern": {
                            "fillmode": "overlay",
                            "size": 10,
                            "solidity": 0.2
                          }
                        },
                        "type": "barpolar"
                      }
                    ],
                    "carpet": [
                      {
                        "aaxis": {
                          "endlinecolor": "#2a3f5f",
                          "gridcolor": "white",
                          "linecolor": "white",
                          "minorgridcolor": "white",
                          "startlinecolor": "#2a3f5f"
                        },
                        "baxis": {
                          "endlinecolor": "#2a3f5f",
                          "gridcolor": "white",
                          "linecolor": "white",
                          "minorgridcolor": "white",
                          "startlinecolor": "#2a3f5f"
                        },
                        "type": "carpet"
                      }
                    ],
                    "choropleth": [
                      {
                        "colorbar": {
                          "outlinewidth": 0,
                          "ticks": ""
                        },
                        "type": "choropleth"
                      }
                    ],
                    "contour": [
                      {
                        "colorbar": {
                          "outlinewidth": 0,
                          "ticks": ""
                        },
                        "colorscale": [
                          [
                            0,
                            "#0d0887"
                          ],
                          [
                            0.1111111111111111,
                            "#46039f"
                          ],
                          [
                            0.2222222222222222,
                            "#7201a8"
                          ],
                          [
                            0.3333333333333333,
                            "#9c179e"
                          ],
                          [
                            0.4444444444444444,
                            "#bd3786"
                          ],
                          [
                            0.5555555555555556,
                            "#d8576b"
                          ],
                          [
                            0.6666666666666666,
                            "#ed7953"
                          ],
                          [
                            0.7777777777777778,
                            "#fb9f3a"
                          ],
                          [
                            0.8888888888888888,
                            "#fdca26"
                          ],
                          [
                            1,
                            "#f0f921"
                          ]
                        ],
                        "type": "contour"
                      }
                    ],
                    "contourcarpet": [
                      {
                        "colorbar": {
                          "outlinewidth": 0,
                          "ticks": ""
                        },
                        "type": "contourcarpet"
                      }
                    ],
                    "heatmap": [
                      {
                        "colorbar": {
                          "outlinewidth": 0,
                          "ticks": ""
                        },
                        "colorscale": [
                          [
                            0,
                            "#0d0887"
                          ],
                          [
                            0.1111111111111111,
                            "#46039f"
                          ],
                          [
                            0.2222222222222222,
                            "#7201a8"
                          ],
                          [
                            0.3333333333333333,
                            "#9c179e"
                          ],
                          [
                            0.4444444444444444,
                            "#bd3786"
                          ],
                          [
                            0.5555555555555556,
                            "#d8576b"
                          ],
                          [
                            0.6666666666666666,
                            "#ed7953"
                          ],
                          [
                            0.7777777777777778,
                            "#fb9f3a"
                          ],
                          [
                            0.8888888888888888,
                            "#fdca26"
                          ],
                          [
                            1,
                            "#f0f921"
                          ]
                        ],
                        "type": "heatmap"
                      }
                    ],
                    "heatmapgl": [
                      {
                        "colorbar": {
                          "outlinewidth": 0,
                          "ticks": ""
                        },
                        "colorscale": [
                          [
                            0,
                            "#0d0887"
                          ],
                          [
                            0.1111111111111111,
                            "#46039f"
                          ],
                          [
                            0.2222222222222222,
                            "#7201a8"
                          ],
                          [
                            0.3333333333333333,
                            "#9c179e"
                          ],
                          [
                            0.4444444444444444,
                            "#bd3786"
                          ],
                          [
                            0.5555555555555556,
                            "#d8576b"
                          ],
                          [
                            0.6666666666666666,
                            "#ed7953"
                          ],
                          [
                            0.7777777777777778,
                            "#fb9f3a"
                          ],
                          [
                            0.8888888888888888,
                            "#fdca26"
                          ],
                          [
                            1,
                            "#f0f921"
                          ]
                        ],
                        "type": "heatmapgl"
                      }
                    ],
                    "histogram": [
                      {
                        "marker": {
                          "pattern": {
                            "fillmode": "overlay",
                            "size": 10,
                            "solidity": 0.2
                          }
                        },
                        "type": "histogram"
                      }
                    ],
                    "histogram2d": [
                      {
                        "colorbar": {
                          "outlinewidth": 0,
                          "ticks": ""
                        },
                        "colorscale": [
                          [
                            0,
                            "#0d0887"
                          ],
                          [
                            0.1111111111111111,
                            "#46039f"
                          ],
                          [
                            0.2222222222222222,
                            "#7201a8"
                          ],
                          [
                            0.3333333333333333,
                            "#9c179e"
                          ],
                          [
                            0.4444444444444444,
                            "#bd3786"
                          ],
                          [
                            0.5555555555555556,
                            "#d8576b"
                          ],
                          [
                            0.6666666666666666,
                            "#ed7953"
                          ],
                          [
                            0.7777777777777778,
                            "#fb9f3a"
                          ],
                          [
                            0.8888888888888888,
                            "#fdca26"
                          ],
                          [
                            1,
                            "#f0f921"
                          ]
                        ],
                        "type": "histogram2d"
                      }
                    ],
                    "histogram2dcontour": [
                      {
                        "colorbar": {
                          "outlinewidth": 0,
                          "ticks": ""
                        },
                        "colorscale": [
                          [
                            0,
                            "#0d0887"
                          ],
                          [
                            0.1111111111111111,
                            "#46039f"
                          ],
                          [
                            0.2222222222222222,
                            "#7201a8"
                          ],
                          [
                            0.3333333333333333,
                            "#9c179e"
                          ],
                          [
                            0.4444444444444444,
                            "#bd3786"
                          ],
                          [
                            0.5555555555555556,
                            "#d8576b"
                          ],
                          [
                            0.6666666666666666,
                            "#ed7953"
                          ],
                          [
                            0.7777777777777778,
                            "#fb9f3a"
                          ],
                          [
                            0.8888888888888888,
                            "#fdca26"
                          ],
                          [
                            1,
                            "#f0f921"
                          ]
                        ],
                        "type": "histogram2dcontour"
                      }
                    ],
                    "mesh3d": [
                      {
                        "colorbar": {
                          "outlinewidth": 0,
                          "ticks": ""
                        },
                        "type": "mesh3d"
                      }
                    ],
                    "parcoords": [
                      {
                        "line": {
                          "colorbar": {
                            "outlinewidth": 0,
                            "ticks": ""
                          }
                        },
                        "type": "parcoords"
                      }
                    ],
                    "pie": [
                      {
                        "automargin": true,
                        "type": "pie"
                      }
                    ],
                    "scatter": [
                      {
                        "fillpattern": {
                          "fillmode": "overlay",
                          "size": 10,
                          "solidity": 0.2
                        },
                        "type": "scatter"
                      }
                    ],
                    "scatter3d": [
                      {
                        "line": {
                          "colorbar": {
                            "outlinewidth": 0,
                            "ticks": ""
                          }
                        },
                        "marker": {
                          "colorbar": {
                            "outlinewidth": 0,
                            "ticks": ""
                          }
                        },
                        "type": "scatter3d"
                      }
                    ],
                    "scattercarpet": [
                      {
                        "marker": {
                          "colorbar": {
                            "outlinewidth": 0,
                            "ticks": ""
                          }
                        },
                        "type": "scattercarpet"
                      }
                    ],
                    "scattergeo": [
                      {
                        "marker": {
                          "colorbar": {
                            "outlinewidth": 0,
                            "ticks": ""
                          }
                        },
                        "type": "scattergeo"
                      }
                    ],
                    "scattergl": [
                      {
                        "marker": {
                          "colorbar": {
                            "outlinewidth": 0,
                            "ticks": ""
                          }
                        },
                        "type": "scattergl"
                      }
                    ],
                    "scattermapbox": [
                      {
                        "marker": {
                          "colorbar": {
                            "outlinewidth": 0,
                            "ticks": ""
                          }
                        },
                        "type": "scattermapbox"
                      }
                    ],
                    "scatterpolar": [
                      {
                        "marker": {
                          "colorbar": {
                            "outlinewidth": 0,
                            "ticks": ""
                          }
                        },
                        "type": "scatterpolar"
                      }
                    ],
                    "scatterpolargl": [
                      {
                        "marker": {
                          "colorbar": {
                            "outlinewidth": 0,
                            "ticks": ""
                          }
                        },
                        "type": "scatterpolargl"
                      }
                    ],
                    "scatterternary": [
                      {
                        "marker": {
                          "colorbar": {
                            "outlinewidth": 0,
                            "ticks": ""
                          }
                        },
                        "type": "scatterternary"
                      }
                    ],
                    "surface": [
                      {
                        "colorbar": {
                          "outlinewidth": 0,
                          "ticks": ""
                        },
                        "colorscale": [
                          [
                            0,
                            "#0d0887"
                          ],
                          [
                            0.1111111111111111,
                            "#46039f"
                          ],
                          [
                            0.2222222222222222,
                            "#7201a8"
                          ],
                          [
                            0.3333333333333333,
                            "#9c179e"
                          ],
                          [
                            0.4444444444444444,
                            "#bd3786"
                          ],
                          [
                            0.5555555555555556,
                            "#d8576b"
                          ],
                          [
                            0.6666666666666666,
                            "#ed7953"
                          ],
                          [
                            0.7777777777777778,
                            "#fb9f3a"
                          ],
                          [
                            0.8888888888888888,
                            "#fdca26"
                          ],
                          [
                            1,
                            "#f0f921"
                          ]
                        ],
                        "type": "surface"
                      }
                    ],
                    "table": [
                      {
                        "cells": {
                          "fill": {
                            "color": "#EBF0F8"
                          },
                          "line": {
                            "color": "white"
                          }
                        },
                        "header": {
                          "fill": {
                            "color": "#C8D4E3"
                          },
                          "line": {
                            "color": "white"
                          }
                        },
                        "type": "table"
                      }
                    ]
                  },
                  "layout": {
                    "annotationdefaults": {
                      "arrowcolor": "#2a3f5f",
                      "arrowhead": 0,
                      "arrowwidth": 1
                    },
                    "autotypenumbers": "strict",
                    "coloraxis": {
                      "colorbar": {
                        "outlinewidth": 0,
                        "ticks": ""
                      }
                    },
                    "colorscale": {
                      "diverging": [
                        [
                          0,
                          "#8e0152"
                        ],
                        [
                          0.1,
                          "#c51b7d"
                        ],
                        [
                          0.2,
                          "#de77ae"
                        ],
                        [
                          0.3,
                          "#f1b6da"
                        ],
                        [
                          0.4,
                          "#fde0ef"
                        ],
                        [
                          0.5,
                          "#f7f7f7"
                        ],
                        [
                          0.6,
                          "#e6f5d0"
                        ],
                        [
                          0.7,
                          "#b8e186"
                        ],
                        [
                          0.8,
                          "#7fbc41"
                        ],
                        [
                          0.9,
                          "#4d9221"
                        ],
                        [
                          1,
                          "#276419"
                        ]
                      ],
                      "sequential": [
                        [
                          0,
                          "#0d0887"
                        ],
                        [
                          0.1111111111111111,
                          "#46039f"
                        ],
                        [
                          0.2222222222222222,
                          "#7201a8"
                        ],
                        [
                          0.3333333333333333,
                          "#9c179e"
                        ],
                        [
                          0.4444444444444444,
                          "#bd3786"
                        ],
                        [
                          0.5555555555555556,
                          "#d8576b"
                        ],
                        [
                          0.6666666666666666,
                          "#ed7953"
                        ],
                        [
                          0.7777777777777778,
                          "#fb9f3a"
                        ],
                        [
                          0.8888888888888888,
                          "#fdca26"
                        ],
                        [
                          1,
                          "#f0f921"
                        ]
                      ],
                      "sequentialminus": [
                        [
                          0,
                          "#0d0887"
                        ],
                        [
                          0.1111111111111111,
                          "#46039f"
                        ],
                        [
                          0.2222222222222222,
                          "#7201a8"
                        ],
                        [
                          0.3333333333333333,
                          "#9c179e"
                        ],
                        [
                          0.4444444444444444,
                          "#bd3786"
                        ],
                        [
                          0.5555555555555556,
                          "#d8576b"
                        ],
                        [
                          0.6666666666666666,
                          "#ed7953"
                        ],
                        [
                          0.7777777777777778,
                          "#fb9f3a"
                        ],
                        [
                          0.8888888888888888,
                          "#fdca26"
                        ],
                        [
                          1,
                          "#f0f921"
                        ]
                      ]
                    },
                    "colorway": [
                      "#636efa",
                      "#EF553B",
                      "#00cc96",
                      "#ab63fa",
                      "#FFA15A",
                      "#19d3f3",
                      "#FF6692",
                      "#B6E880",
                      "#FF97FF",
                      "#FECB52"
                    ],
                    "font": {
                      "color": "#2a3f5f"
                    },
                    "geo": {
                      "bgcolor": "white",
                      "lakecolor": "white",
                      "landcolor": "#E5ECF6",
                      "showlakes": true,
                      "showland": true,
                      "subunitcolor": "white"
                    },
                    "hoverlabel": {
                      "align": "left"
                    },
                    "hovermode": "closest",
                    "mapbox": {
                      "style": "light"
                    },
                    "paper_bgcolor": "white",
                    "plot_bgcolor": "#E5ECF6",
                    "polar": {
                      "angularaxis": {
                        "gridcolor": "white",
                        "linecolor": "white",
                        "ticks": ""
                      },
                      "bgcolor": "#E5ECF6",
                      "radialaxis": {
                        "gridcolor": "white",
                        "linecolor": "white",
                        "ticks": ""
                      }
                    },
                    "scene": {
                      "xaxis": {
                        "backgroundcolor": "#E5ECF6",
                        "gridcolor": "white",
                        "gridwidth": 2,
                        "linecolor": "white",
                        "showbackground": true,
                        "ticks": "",
                        "zerolinecolor": "white"
                      },
                      "yaxis": {
                        "backgroundcolor": "#E5ECF6",
                        "gridcolor": "white",
                        "gridwidth": 2,
                        "linecolor": "white",
                        "showbackground": true,
                        "ticks": "",
                        "zerolinecolor": "white"
                      },
                      "zaxis": {
                        "backgroundcolor": "#E5ECF6",
                        "gridcolor": "white",
                        "gridwidth": 2,
                        "linecolor": "white",
                        "showbackground": true,
                        "ticks": "",
                        "zerolinecolor": "white"
                      }
                    },
                    "shapedefaults": {
                      "line": {
                        "color": "#2a3f5f"
                      }
                    },
                    "ternary": {
                      "aaxis": {
                        "gridcolor": "white",
                        "linecolor": "white",
                        "ticks": ""
                      },
                      "baxis": {
                        "gridcolor": "white",
                        "linecolor": "white",
                        "ticks": ""
                      },
                      "bgcolor": "#E5ECF6",
                      "caxis": {
                        "gridcolor": "white",
                        "linecolor": "white",
                        "ticks": ""
                      }
                    },
                    "title": {
                      "x": 0.05
                    },
                    "xaxis": {
                      "automargin": true,
                      "gridcolor": "white",
                      "linecolor": "white",
                      "ticks": "",
                      "title": {
                        "standoff": 15
                      },
                      "zerolinecolor": "white",
                      "zerolinewidth": 2
                    },
                    "yaxis": {
                      "automargin": true,
                      "gridcolor": "white",
                      "linecolor": "white",
                      "ticks": "",
                      "title": {
                        "standoff": 15
                      },
                      "zerolinecolor": "white",
                      "zerolinewidth": 2
                    }
                  }
                }
              }
            }
          },
          "metadata": {},
          "output_type": "display_data"
        }
      ],
      "source": [
        "# Query untuk mengambil data dari tabel Equity dengan symbol TLKM.JK\n",
        "query = \"SELECT datetime, open, high, low, close FROM Equity WHERE symbol = 'TLKM.JK'\"\n",
        "\n",
        "# Gunakan pandas untuk menjalankan query dan mendapatkan hasilnya sebagai DataFrame\n",
        "df = pd.read_sql(query, con=engine)\n",
        "\n",
        "# Buat candlestick chart dengan Plotly\n",
        "fig = go.Figure(data=[go.Candlestick(x=df['datetime'],\n",
        "                open=df['open'],\n",
        "                high=df['high'],\n",
        "                low=df['low'],\n",
        "                close=df['close'])])\n",
        "\n",
        "fig.show()"
      ]
    },
    {
      "cell_type": "code",
      "execution_count": 37,
      "metadata": {},
      "outputs": [
        {
          "name": "stdout",
          "output_type": "stream",
          "text": [
            "address1: Jl. Japati No. 1\n",
            "city: Bandung\n",
            "zip: 40133\n",
            "country: Indonesia\n",
            "phone: 62 22 452 7101\n",
            "website: https://www.telkom.co.id\n",
            "industry: Telecom Services\n",
            "industryKey: telecom-services\n",
            "industryDisp: Telecom Services\n",
            "sector: Communication Services\n",
            "sectorKey: communication-services\n",
            "sectorDisp: Communication Services\n",
            "longBusinessSummary: Perusahaan Perseroan (Persero) PT Telekomunikasi Indonesia Tbk provides information and communications technology, and telecommunications network services worldwide. The company operates through mobile, consumer, enterprise, Wholesale and International Business, and Other segments. The Mobile segment offers mobile voice, SMS, value added services, and mobile broadband services. The Consumer segment provides fixed wireline, pay TV, and internet services; and other telecommunication services to home customers. The Enterprise segment offers end-to-end solution to corporate and institutions. The Wholesale and International Business segment provides interconnection services, leased lines, satellite, very small aperture terminal, broadband access, information technology services, data, and internet services to other licensed operator companies and institutions. The Other segment offers digital content products, big data, business to business commerce, and financial services to individual and corporate customers. The company also engages in leasing of towers and other telecommunication services; provision of consultation service of hardware, computer software, and data center, as well as multimedia portal services; property development and management; trading service related to information and technology, multimedia, entertainment, and investment; and digital content exchange hub services. The company was founded in 1884 and is headquartered in Bandung, Indonesia.\n",
            "fullTimeEmployees: 20697\n",
            "companyOfficers: [{'maxAge': 1, 'name': 'Mr. Ririek  Adriansyah', 'age': 60, 'title': 'President Director', 'yearBorn': 1963, 'fiscalYear': 2022, 'totalPay': 25568268800, 'exercisedValue': 0, 'unexercisedValue': 0}, {'maxAge': 1, 'name': 'Mr. Heri  Supriadi', 'age': 58, 'title': 'CFO, Director of Finance & Risk Management and Director', 'yearBorn': 1965, 'fiscalYear': 2022, 'totalPay': 21516000000, 'exercisedValue': 0, 'unexercisedValue': 0}, {'maxAge': 1, 'name': 'Mr. .  Afriwandi', 'age': 52, 'title': 'Director of Human Capital Management & Director', 'yearBorn': 1971, 'fiscalYear': 2022, 'totalPay': 21516000000, 'exercisedValue': 0, 'unexercisedValue': 0}, {'maxAge': 1, 'name': 'Mr. Bogi  Witjaksono', 'age': 56, 'title': 'Director of Wholesale & International Service and Director', 'yearBorn': 1967, 'fiscalYear': 2022, 'totalPay': 13108738055, 'exercisedValue': 0, 'unexercisedValue': 0}, {'maxAge': 1, 'name': 'Ms. F. M. Venusiana R.', 'age': 57, 'title': 'Director of Enterprise & Business Service and Director', 'yearBorn': 1966, 'fiscalYear': 2022, 'totalPay': 21516000000, 'exercisedValue': 0, 'unexercisedValue': 0}, {'maxAge': 1, 'name': 'Mr. Herlan  Wijanarko', 'age': 58, 'title': 'Director of Network & IT Solution and Director', 'yearBorn': 1965, 'fiscalYear': 2022, 'totalPay': 21516000000, 'exercisedValue': 0, 'unexercisedValue': 0}, {'maxAge': 1, 'name': 'Mr. Muhamad Fajrin Rasyid', 'age': 37, 'title': 'Director of Digital Business & Director', 'yearBorn': 1986, 'fiscalYear': 2022, 'totalPay': 21516000000, 'exercisedValue': 0, 'unexercisedValue': 0}, {'maxAge': 1, 'name': 'Mr. Budi Setyawan Wijaya', 'age': 51, 'title': 'Director of Strategic Portfolio & Director', 'yearBorn': 1972, 'fiscalYear': 2022, 'totalPay': 21516000000, 'exercisedValue': 0, 'unexercisedValue': 0}, {'maxAge': 1, 'name': 'Saiful  Hidaja', 'title': 'Executive Vice President of Business & Technology Division', 'fiscalYear': 2022, 'exercisedValue': 0, 'unexercisedValue': 0}, {'maxAge': 1, 'name': 'Mr. Ahmad  Reza', 'age': 46, 'title': 'Senior Vice President of Corporate Communication & Investor Relation', 'yearBorn': 1977, 'fiscalYear': 2022, 'exercisedValue': 0, 'unexercisedValue': 0}]\n",
            "compensationAsOfEpochDate: 1672444800\n",
            "maxAge: 86400\n",
            "priceHint: 2\n",
            "previousClose: 3970.0\n",
            "open: 3950.0\n",
            "dayLow: 3880.0\n",
            "dayHigh: 3970.0\n",
            "regularMarketPreviousClose: 3970.0\n",
            "regularMarketOpen: 3950.0\n",
            "regularMarketDayLow: 3880.0\n",
            "regularMarketDayHigh: 3970.0\n",
            "dividendRate: 167.6\n",
            "dividendYield: 0.0422\n",
            "exDividendDate: 1686528000\n",
            "payoutRatio: 0.7019\n",
            "fiveYearAvgDividendYield: 3.97\n",
            "beta: 0.268\n",
            "trailingPE: 16.303436\n",
            "forwardPE: 13.663026\n",
            "volume: 69268000\n",
            "regularMarketVolume: 69268000\n",
            "averageVolume: 72689535\n",
            "averageVolume10days: 38341830\n",
            "averageDailyVolume10Day: 38341830\n",
            "bid: 3920.0\n",
            "ask: 3900.0\n",
            "bidSize: 0\n",
            "askSize: 0\n",
            "marketCap: 385351981989888\n",
            "fiftyTwoWeekLow: 3390.0\n",
            "fiftyTwoWeekHigh: 4500.0\n",
            "priceToSalesTrailing12Months: 2.5746775\n",
            "fiftyDayAverage: 3739.4\n",
            "twoHundredDayAverage: 3883.15\n",
            "trailingAnnualDividendRate: 167.599\n",
            "trailingAnnualDividendYield: 0.04221637\n",
            "currency: IDR\n",
            "enterpriseValue: 445698017329152\n",
            "profitMargins: 0.15815\n",
            "floatShares: 39326709368\n",
            "sharesOutstanding: 99062202368\n",
            "heldPercentInsiders: 0.57921004\n",
            "heldPercentInstitutions: 0.19397\n",
            "impliedSharesOutstanding: 99062202368\n",
            "bookValue: 1319.302\n",
            "priceToBook: 2.9485288\n",
            "lastFiscalYearEnd: 1672444800\n",
            "nextFiscalYearEnd: 1703980800\n",
            "mostRecentQuarter: 1696032000\n",
            "earningsQuarterlyGrowth: 1.061\n",
            "netIncomeToCommon: 23670999220224\n",
            "trailingEps: 238.6\n",
            "forwardEps: 284.71\n",
            "pegRatio: 1.91\n",
            "lastSplitFactor: 5:1\n",
            "lastSplitDate: 1377648000\n",
            "enterpriseToRevenue: 2.978\n",
            "enterpriseToEbitda: 6.391\n",
            "52WeekChange: 0.07008088\n",
            "SandP52WeekChange: 0.20374417\n",
            "lastDividendValue: 167.5987\n",
            "lastDividendDate: 1686528000\n",
            "exchange: JKT\n",
            "quoteType: EQUITY\n",
            "symbol: TLKM.JK\n",
            "underlyingSymbol: TLKM.JK\n",
            "shortName: Telkom Indonesia (Persero) Tbk.\n",
            "longName: Perusahaan Perseroan (Persero) PT Telekomunikasi Indonesia Tbk\n",
            "firstTradeDateEpochUtc: 1096336800\n",
            "timeZoneFullName: Asia/Jakarta\n",
            "timeZoneShortName: WIB\n",
            "uuid: c71755f3-a383-3947-b632-8e5cfebc3d54\n",
            "messageBoardId: finmb_400368\n",
            "gmtOffSetMilliseconds: 25200000\n",
            "currentPrice: 3890.0\n",
            "targetHighPrice: 5200.0\n",
            "targetLowPrice: 3900.0\n",
            "targetMeanPrice: 4634.0\n",
            "targetMedianPrice: 4700.0\n",
            "recommendationMean: 1.8\n",
            "recommendationKey: buy\n",
            "numberOfAnalystOpinions: 20\n",
            "totalCash: 27453001039872\n",
            "totalCashPerShare: 277.129\n",
            "ebitda: 69735999864832\n",
            "totalDebt: 68999001931776\n",
            "quickRatio: 0.571\n",
            "currentRatio: 0.718\n",
            "totalRevenue: 149669996920832\n",
            "debtToEquity: 46.155\n",
            "revenuePerShare: 1510.869\n",
            "returnOnAssets: 0.10593\n",
            "returnOnEquity: 0.20517999\n",
            "freeCashflow: 19082625679360\n",
            "operatingCashflow: 65265001824256\n",
            "earningsGrowth: 1.061\n",
            "revenueGrowth: 0.024\n",
            "grossMargins: 0.61465\n",
            "ebitdaMargins: 0.46592999\n",
            "operatingMargins: 0.33043\n",
            "financialCurrency: IDR\n",
            "trailingPegRatio: None\n",
            "\n"
          ]
        },
        {
          "data": {
            "text/plain": [
              "1"
            ]
          },
          "execution_count": 37,
          "metadata": {},
          "output_type": "execute_result"
        }
      ],
      "source": [
        "from sqlalchemy import create_engine, text\n",
        "import pandas as pd\n",
        "\n",
        "# Symbol saham\n",
        "symbol = \"TLKM.JK\"\n",
        "\n",
        "# Dapatkan objek Ticker\n",
        "stock = yf.Ticker(symbol)\n",
        "\n",
        "# Dapatkan data fundamental\n",
        "fundamental_data = stock.info\n",
        "\n",
        "# Inisialisasi variabel untuk menyimpan hasil looping\n",
        "result_fundamental = \"\"\n",
        "\n",
        "# Looping untuk mengumpulkan data fundamental\n",
        "for key, value in fundamental_data.items():\n",
        "    result_fundamental += f\"{key}: {value}\\n\"\n",
        "\n",
        "# Cetak hasil looping\n",
        "print(result_fundamental)\n",
        "\n",
        "# Ubah result_fundamental menjadi dictionary\n",
        "result_dict = {}\n",
        "for line in result_fundamental.split(\"\\n\"):\n",
        "    if line:\n",
        "        key, value = line.split(\": \", 1)\n",
        "        result_dict[key] = value\n",
        "\n",
        "# Ubah dictionary menjadi DataFrame\n",
        "df = pd.DataFrame([result_dict])\n",
        "\n",
        "# Buat koneksi ke database MySQL\n",
        "engine = create_engine('mysql+pymysql://root:@localhost/Finnovate')\n",
        "\n",
        "# Hapus baris dengan underlyingSymbol yang sama\n",
        "with engine.connect() as connection:\n",
        "    connection.execute(text(\"DELETE FROM Company_Info WHERE underlyingSymbol = :symbol\"), {'symbol': symbol})\n",
        "\n",
        "# Masukkan data ke dalam tabel Company_Info\n",
        "df.to_sql('Company_Info', con=engine, if_exists='append', index=False)"
      ]
    },
    {
      "cell_type": "code",
      "execution_count": 75,
      "metadata": {},
      "outputs": [
        {
          "name": "stdout",
          "output_type": "stream",
          "text": [
            "[*********************100%%**********************]  1 of 1 completed\n",
            "                               Open      High       Low     Close  Adj Close  \\\n",
            "Datetime                                                                       \n",
            "2023-12-30 00:00:00+00:00  0.091031  0.091342  0.090958  0.091300   0.091300   \n",
            "2023-12-30 01:00:00+00:00  0.091297  0.091401  0.091246  0.091330   0.091330   \n",
            "2023-12-30 02:00:00+00:00  0.091332  0.091359  0.090662  0.090702   0.090702   \n",
            "2023-12-30 03:00:00+00:00  0.090706  0.090941  0.090600  0.090759   0.090759   \n",
            "2023-12-30 04:00:00+00:00  0.090757  0.090877  0.090484  0.090501   0.090501   \n",
            "...                             ...       ...       ...       ...        ...   \n",
            "2024-01-05 17:00:00+00:00  0.081909  0.081909  0.081235  0.081813   0.081813   \n",
            "2024-01-05 18:00:00+00:00  0.081811  0.081924  0.081476  0.081791   0.081791   \n",
            "2024-01-05 19:00:00+00:00  0.081805  0.082020  0.081673  0.081786   0.081786   \n",
            "2024-01-05 20:00:00+00:00  0.081777  0.082434  0.081762  0.082434   0.082434   \n",
            "2024-01-05 21:00:00+00:00  0.082447  0.082482  0.082036  0.082055   0.082055   \n",
            "\n",
            "                             Volume    Symbol  \n",
            "Datetime                                       \n",
            "2023-12-30 00:00:00+00:00         0  DOGE-USD  \n",
            "2023-12-30 01:00:00+00:00         0  DOGE-USD  \n",
            "2023-12-30 02:00:00+00:00   1434496  DOGE-USD  \n",
            "2023-12-30 03:00:00+00:00         0  DOGE-USD  \n",
            "2023-12-30 04:00:00+00:00   2698464  DOGE-USD  \n",
            "...                             ...       ...  \n",
            "2024-01-05 17:00:00+00:00  18137600  DOGE-USD  \n",
            "2024-01-05 18:00:00+00:00         0  DOGE-USD  \n",
            "2024-01-05 19:00:00+00:00         0  DOGE-USD  \n",
            "2024-01-05 20:00:00+00:00   5514624  DOGE-USD  \n",
            "2024-01-05 21:00:00+00:00   1337664  DOGE-USD  \n",
            "\n",
            "[166 rows x 7 columns]\n"
          ]
        }
      ],
      "source": [
        "# Symbol saham\n",
        "symbol = \"DOGE-USD\"\n",
        "\n",
        "# Tentukan rentang waktu 7 hari terakhir hingga hari ini\n",
        "end_date = datetime.today().strftime('%Y-%m-%d')\n",
        "start_date = pd.to_datetime(end_date) - pd.DateOffset(days=7)\n",
        "\n",
        "# Ambil data saham per jam menggunakan yfinance\n",
        "btcusd_data = yf.download(symbol, start=start_date, end=end_date, interval='1h')\n",
        "\n",
        "# Tambahkan kolom symbol dengan nilai yang sama pada setiap baris\n",
        "btcusd_data['Symbol'] = symbol\n",
        "\n",
        "print(btcusd_data)"
      ]
    },
    {
      "cell_type": "code",
      "execution_count": 46,
      "metadata": {},
      "outputs": [
        {
          "name": "stdout",
          "output_type": "stream",
          "text": [
            "name: Bitcoin\n",
            "startDate: 1278979200\n",
            "description: Bitcoin (BTC) is a cryptocurrency launched in 2010. Users are able to generate BTC through the process of mining. Bitcoin has a current supply of 19,590,275. The last known price of Bitcoin is 44,148.68364498 USD and is up 2.69 over the last 24 hours. It is currently trading on 10693 active market(s) with $35,143,048,966.44 traded over the last 24 hours. More information can be found at https://bitcoin.org/.\n",
            "maxAge: 86400\n",
            "priceHint: 2\n",
            "previousClose: 44178.953\n",
            "open: 44178.953\n",
            "dayLow: 44176.375\n",
            "dayHigh: 44178.953\n",
            "regularMarketPreviousClose: 44178.953\n",
            "regularMarketOpen: 44178.953\n",
            "regularMarketDayLow: 44176.375\n",
            "regularMarketDayHigh: 44178.953\n",
            "volume: 32224952320\n",
            "regularMarketVolume: 32224952320\n",
            "averageVolume: 20217814264\n",
            "averageVolume10days: 27124399814\n",
            "averageDailyVolume10Day: 27124399814\n",
            "marketCap: 865450786816\n",
            "fiftyTwoWeekLow: 16716.422\n",
            "fiftyTwoWeekHigh: 45899.707\n",
            "fiftyDayAverage: 41069.926\n",
            "twoHundredDayAverage: 32293.188\n",
            "currency: USD\n",
            "fromCurrency: BTC\n",
            "toCurrency: USD=X\n",
            "lastMarket: CoinMarketCap\n",
            "coinMarketCapLink: https://coinmarketcap.com/currencies/bitcoin\n",
            "volume24Hr: 32224952320\n",
            "volumeAllCurrencies: 32224952320\n",
            "circulatingSupply: 19590806\n",
            "exchange: CCC\n",
            "quoteType: CRYPTOCURRENCY\n",
            "symbol: BTC-USD\n",
            "underlyingSymbol: BTC-USD\n",
            "shortName: Bitcoin USD\n",
            "longName: Bitcoin USD\n",
            "firstTradeDateEpochUtc: 1410912000\n",
            "timeZoneFullName: UTC\n",
            "timeZoneShortName: UTC\n",
            "uuid: 74397779-1589-3270-8c45-b7f1a7345b3a\n",
            "messageBoardId: finmb_BTC_CCC\n",
            "trailingPegRatio: None\n"
          ]
        }
      ],
      "source": [
        "# Dapatkan objek Ticker untuk BTC-USD\n",
        "btc = yf.Ticker(symbol)\n",
        "\n",
        "# Dapatkan informasi tentang BTC-USD\n",
        "btc_info = btc.info\n",
        "\n",
        "# Cetak informasi\n",
        "for key, value in btc_info.items():\n",
        "    print(f\"{key}: {value}\")"
      ]
    },
    {
      "cell_type": "code",
      "execution_count": 56,
      "metadata": {},
      "outputs": [
        {
          "data": {
            "text/plain": [
              "1"
            ]
          },
          "execution_count": 56,
          "metadata": {},
          "output_type": "execute_result"
        }
      ],
      "source": [
        "# Symbol saham\n",
        "symbol = \"ETH-USD\"\n",
        "\n",
        "# Dapatkan objek Ticker\n",
        "btc = yf.Ticker(symbol)\n",
        "\n",
        "# Dapatkan data fundamental\n",
        "fundamental_data = btc.info\n",
        "\n",
        "# Ubah dictionary menjadi DataFrame\n",
        "df = pd.DataFrame([fundamental_data])\n",
        "\n",
        "# Hapus baris dengan underlyingSymbol yang sama\n",
        "with engine.connect() as connection:\n",
        "    connection.execute(text(\"DELETE FROM Crypto_Info WHERE symbol = :symbol\"), {'symbol': symbol})\n",
        "\n",
        "# Masukkan data ke dalam tabel BitcoinInfo\n",
        "df.to_sql('Crypto_Info', con=engine, if_exists='append', index=False)"
      ]
    },
    {
      "cell_type": "code",
      "execution_count": 74,
      "metadata": {},
      "outputs": [
        {
          "name": "stdout",
          "output_type": "stream",
          "text": [
            "[*********************100%%**********************]  1 of 1 completed\n"
          ]
        },
        {
          "data": {
            "text/plain": [
              "166"
            ]
          },
          "execution_count": 74,
          "metadata": {},
          "output_type": "execute_result"
        }
      ],
      "source": [
        "import pandas as pd\n",
        "import yfinance as yf\n",
        "from sqlalchemy import create_engine, text\n",
        "from datetime import datetime\n",
        "\n",
        "# Buat koneksi ke database\n",
        "engine = create_engine('mysql+pymysql://root:@localhost/Finnovate')\n",
        "\n",
        "# Symbol crypto\n",
        "symbol = \"DOGE-USD\"\n",
        "\n",
        "# Dapatkan objek Ticker\n",
        "eth = yf.Ticker(symbol)\n",
        "\n",
        "# Dapatkan data fundamental\n",
        "fundamental_data = eth.info\n",
        "\n",
        "# Ubah dictionary menjadi DataFrame\n",
        "df = pd.DataFrame([fundamental_data])\n",
        "\n",
        "# Cek apakah simbol sudah ada di tabel Crypto_Info\n",
        "with engine.connect() as connection:\n",
        "    result = connection.execute(text(\"SELECT id FROM Crypto_Info WHERE symbol = :symbol\"), {'symbol': symbol})\n",
        "\n",
        "crypto_id = result.scalar()  # Mengambil id jika ada, jika tidak ada akan mengembalikan None\n",
        "\n",
        "# Jika simbol belum ada di tabel Crypto_Info, tambahkan ke tabel dan ambil id yang baru dibuat\n",
        "if crypto_id is None:\n",
        "    df.to_sql('Crypto_Info', con=engine, if_exists='append', index=False)\n",
        "    with engine.connect() as connection:\n",
        "        crypto_id = connection.execute(text(\"SELECT id FROM Crypto_Info WHERE symbol = :symbol\"), {'symbol': symbol}).scalar()\n",
        "\n",
        "# Tentukan rentang waktu 7 hari terakhir hingga hari ini\n",
        "end_date = datetime.today().strftime('%Y-%m-%d')\n",
        "start_date = pd.to_datetime(end_date) - pd.DateOffset(days=7)\n",
        "\n",
        "# Ambil data crypto per jam menggunakan yfinance\n",
        "history_data = yf.download(symbol, start=start_date, end=end_date, interval='1h')\n",
        "\n",
        "# Tambahkan kolom crypto_id dan symbol\n",
        "history_data['crypto_id'] = crypto_id\n",
        "history_data['symbol'] = symbol\n",
        "\n",
        "# Dapatkan id untuk tipe 'crypto'\n",
        "type_id = pd.read_sql_query(\"SELECT type_id FROM EquityType WHERE type_name = 'crypto'\", engine).iloc[0, 0]\n",
        "\n",
        "# Tambahkan kolom type_id dengan nilai yang sama pada setiap baris\n",
        "history_data['type_id'] = type_id\n",
        "\n",
        "# Ubah indeks Datetime menjadi kolom biasa\n",
        "history_data.reset_index(inplace=True)\n",
        "\n",
        "# Ubah nama kolom agar sesuai dengan tabel Equity\n",
        "history_data = history_data.rename(columns={'Datetime': 'datetime', 'Open': 'open', 'High': 'high', 'Low': 'low', 'Close': 'close', 'Adj Close': 'adj_close', 'Volume': 'volume'})\n",
        "\n",
        "# Masukkan data ke dalam tabel Equity\n",
        "history_data.to_sql('Equity', con=engine, if_exists='append', index=False)"
      ]
    }
  ],
  "metadata": {
    "colab": {
      "provenance": []
    },
    "kernelspec": {
      "display_name": "Python 3",
      "name": "python3"
    },
    "language_info": {
      "codemirror_mode": {
        "name": "ipython",
        "version": 3
      },
      "file_extension": ".py",
      "mimetype": "text/x-python",
      "name": "python",
      "nbconvert_exporter": "python",
      "pygments_lexer": "ipython3",
      "version": "3.9.6"
    }
  },
  "nbformat": 4,
  "nbformat_minor": 0
}
